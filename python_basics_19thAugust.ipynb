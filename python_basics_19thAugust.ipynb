{
 "cells": [
  {
   "cell_type": "code",
   "execution_count": 2,
   "id": "1ecf8b10-5d3f-4614-ba18-5add2aae631a",
   "metadata": {},
   "outputs": [
    {
     "name": "stdout",
     "output_type": "stream",
     "text": [
      "x = 7\n",
      "y =  5\n"
     ]
    }
   ],
   "source": [
    "x = 5\n",
    "y=7\n",
    "# 1program to swap without using temp variable\n",
    "x= x+y\n",
    "y= x-y\n",
    "x =x-y\n",
    "print(\"x =\", x)\n",
    "print(\"y = \", y)"
   ]
  },
  {
   "cell_type": "code",
   "execution_count": 5,
   "id": "965d07d4-e6db-4eb8-ab7e-794598fbc22c",
   "metadata": {},
   "outputs": [
    {
     "name": "stdin",
     "output_type": "stream",
     "text": [
      "enter your lenght :  7\n",
      "enter your width :  4\n"
     ]
    },
    {
     "name": "stdout",
     "output_type": "stream",
     "text": [
      "area =  28 cm^2\n"
     ]
    }
   ],
   "source": [
    "# 2 program to calculate area of reactangle \n",
    "length= int(input(\"enter your lenght : \"))\n",
    "width = int(input(\"enter your width : \")) \n",
    "Area = length*width\n",
    "print(\"area = \" , Area,\"cm^2\" )\n",
    "                  "
   ]
  },
  {
   "cell_type": "code",
   "execution_count": 6,
   "id": "617a650b-6bc0-4605-8440-8227a835ba97",
   "metadata": {},
   "outputs": [
    {
     "name": "stdin",
     "output_type": "stream",
     "text": [
      "enter your temperature in celsisus 37.5\n"
     ]
    },
    {
     "name": "stdout",
     "output_type": "stream",
     "text": [
      "37.5 degree celsius to fahreneit is :  99.5\n"
     ]
    }
   ],
   "source": [
    "# 3 program to converts temperatures from Celsius to Fahrenheit.\n",
    "celsius = float(input(\"enter your temperature in celsisus : \"))\n",
    "fahrenheit = (celsius * 9/5) + 32 \n",
    "print(celsius ,\"degree celsius to fahreneit is : \",fahrenheit)\n"
   ]
  },
  {
   "cell_type": "code",
   "execution_count": 7,
   "id": "c2feda4c-8b6d-4abb-b3de-0ee9d5c28c60",
   "metadata": {},
   "outputs": [
    {
     "name": "stdin",
     "output_type": "stream",
     "text": [
      "enter your name : atharv thakur\n"
     ]
    },
    {
     "name": "stdout",
     "output_type": "stream",
     "text": [
      "13\n"
     ]
    }
   ],
   "source": [
    "#1  program to print length of a String\n",
    "name = input(\"enter your name :\" )\n",
    "print(len(name))"
   ]
  },
  {
   "cell_type": "code",
   "execution_count": 2,
   "id": "89fafcc2-e99a-455d-b17f-dba1adea596e",
   "metadata": {},
   "outputs": [
    {
     "name": "stdout",
     "output_type": "stream",
     "text": [
      "vrahta\n",
      "<class 'str'>\n"
     ]
    }
   ],
   "source": [
    "# 3 program to reverse the charcter of string using Strings slicing\n",
    "name = \"atharv\"\n",
    "print(name[::-1])\n",
    "print(type(name))"
   ]
  },
  {
   "cell_type": "code",
   "execution_count": 7,
   "id": "6e04d4bf-3c59-4f87-af98-9b785c78429d",
   "metadata": {},
   "outputs": [
    {
     "name": "stdout",
     "output_type": "stream",
     "text": [
      "atharv\n"
     ]
    }
   ],
   "source": [
    "# 5 program to remove spaces from a Strings  \n",
    "s = \"  at har v  \" \n",
    "s_modified = s.replace(\" \",\"\")\n",
    "print(s_modified)"
   ]
  },
  {
   "cell_type": "code",
   "execution_count": 4,
   "id": "6af38f9e-5ccf-4d80-a123-55e7ad8df4cc",
   "metadata": {},
   "outputs": [
    {
     "name": "stdin",
     "output_type": "stream",
     "text": [
      "enter your name  :  machine learning\n"
     ]
    },
    {
     "name": "stdout",
     "output_type": "stream",
     "text": [
      "6\n"
     ]
    }
   ],
   "source": [
    "# 2 program to calculate  no of vowel in a string  \n",
    "s = input(\"enter your word  : \")\n",
    "vowel_count = 0\n",
    "for i in s :\n",
    "    if( i=='a' or i=='e' or i=='i' or i=='o' or i=='u') :\n",
    "       vowel_count = vowel_count+1\n",
    "print(vowel_count)       "
   ]
  },
  {
   "cell_type": "code",
   "execution_count": 12,
   "id": "d126ea2d-ad4a-4905-9703-1bf965890c77",
   "metadata": {},
   "outputs": [
    {
     "name": "stdin",
     "output_type": "stream",
     "text": [
      "enter your word : data\n"
     ]
    },
    {
     "name": "stdout",
     "output_type": "stream",
     "text": [
      "string is not   palindrome\n"
     ]
    }
   ],
   "source": [
    "# 4 program to check whther string is palidnrome or not\n",
    "s1 = input(\"enter your word :\")\n",
    "for i in range(0, len(s1)//2):\n",
    "    if( s1[i] !=  s1[len( s1) - 1 - i]):\n",
    "        print(\"string is not   palindrome\")\n",
    "        break \n",
    "   \n",
    "        \n",
    "        \n",
    "        "
   ]
  },
  {
   "cell_type": "code",
   "execution_count": null,
   "id": "8906ff15-7861-483a-8931-289a983b872a",
   "metadata": {},
   "outputs": [],
   "source": []
  },
  {
   "cell_type": "code",
   "execution_count": null,
   "id": "f5af3797-cac8-49ac-9b06-0530af3eedc6",
   "metadata": {},
   "outputs": [],
   "source": []
  }
 ],
 "metadata": {
  "kernelspec": {
   "display_name": "Python 3 (ipykernel)",
   "language": "python",
   "name": "python3"
  },
  "language_info": {
   "codemirror_mode": {
    "name": "ipython",
    "version": 3
   },
   "file_extension": ".py",
   "mimetype": "text/x-python",
   "name": "python",
   "nbconvert_exporter": "python",
   "pygments_lexer": "ipython3",
   "version": "3.10.8"
  }
 },
 "nbformat": 4,
 "nbformat_minor": 5
}
